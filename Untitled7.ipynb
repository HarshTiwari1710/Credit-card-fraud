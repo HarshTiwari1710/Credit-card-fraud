{
  "nbformat": 4,
  "nbformat_minor": 0,
  "metadata": {
    "colab": {
      "provenance": [],
      "authorship_tag": "ABX9TyPxz+MJxUBca/z15Sn5vkv0",
      "include_colab_link": true
    },
    "kernelspec": {
      "name": "python3",
      "display_name": "Python 3"
    },
    "language_info": {
      "name": "python"
    }
  },
  "cells": [
    {
      "cell_type": "markdown",
      "metadata": {
        "id": "view-in-github",
        "colab_type": "text"
      },
      "source": [
        "<a href=\"https://colab.research.google.com/github/HarshTiwari1710/Credit-card-fraud/blob/main/Untitled7.ipynb\" target=\"_parent\"><img src=\"https://colab.research.google.com/assets/colab-badge.svg\" alt=\"Open In Colab\"/></a>"
      ]
    },
    {
      "cell_type": "code",
      "execution_count": null,
      "metadata": {
        "id": "cU7-uWoEMUZy",
        "colab": {
          "base_uri": "https://localhost:8080/",
          "height": 299
        },
        "outputId": "3ddeb62a-6e46-41ef-d7df-5a954f0830cd"
      },
      "outputs": [
        {
          "output_type": "execute_result",
          "data": {
            "text/plain": [
              "   Time        V1        V2        V3        V4        V5        V6        V7  \\\n",
              "0   0.0 -1.359807 -0.072781  2.536347  1.378155 -0.338321  0.462388  0.239599   \n",
              "1   0.0  1.191857  0.266151  0.166480  0.448154  0.060018 -0.082361 -0.078803   \n",
              "2   1.0 -1.358354 -1.340163  1.773209  0.379780 -0.503198  1.800499  0.791461   \n",
              "3   1.0 -0.966272 -0.185226  1.792993 -0.863291 -0.010309  1.247203  0.237609   \n",
              "4   2.0 -1.158233  0.877737  1.548718  0.403034 -0.407193  0.095921  0.592941   \n",
              "\n",
              "         V8        V9  ...       V21       V22       V23       V24       V25  \\\n",
              "0  0.098698  0.363787  ... -0.018307  0.277838 -0.110474  0.066928  0.128539   \n",
              "1  0.085102 -0.255425  ... -0.225775 -0.638672  0.101288 -0.339846  0.167170   \n",
              "2  0.247676 -1.514654  ...  0.247998  0.771679  0.909412 -0.689281 -0.327642   \n",
              "3  0.377436 -1.387024  ... -0.108300  0.005274 -0.190321 -1.175575  0.647376   \n",
              "4 -0.270533  0.817739  ... -0.009431  0.798278 -0.137458  0.141267 -0.206010   \n",
              "\n",
              "        V26       V27       V28  Amount  Class  \n",
              "0 -0.189115  0.133558 -0.021053  149.62      0  \n",
              "1  0.125895 -0.008983  0.014724    2.69      0  \n",
              "2 -0.139097 -0.055353 -0.059752  378.66      0  \n",
              "3 -0.221929  0.062723  0.061458  123.50      0  \n",
              "4  0.502292  0.219422  0.215153   69.99      0  \n",
              "\n",
              "[5 rows x 31 columns]"
            ],
            "text/html": [
              "\n",
              "  <div id=\"df-b9a99979-8ec1-408e-b1d6-e38217b33245\">\n",
              "    <div class=\"colab-df-container\">\n",
              "      <div>\n",
              "<style scoped>\n",
              "    .dataframe tbody tr th:only-of-type {\n",
              "        vertical-align: middle;\n",
              "    }\n",
              "\n",
              "    .dataframe tbody tr th {\n",
              "        vertical-align: top;\n",
              "    }\n",
              "\n",
              "    .dataframe thead th {\n",
              "        text-align: right;\n",
              "    }\n",
              "</style>\n",
              "<table border=\"1\" class=\"dataframe\">\n",
              "  <thead>\n",
              "    <tr style=\"text-align: right;\">\n",
              "      <th></th>\n",
              "      <th>Time</th>\n",
              "      <th>V1</th>\n",
              "      <th>V2</th>\n",
              "      <th>V3</th>\n",
              "      <th>V4</th>\n",
              "      <th>V5</th>\n",
              "      <th>V6</th>\n",
              "      <th>V7</th>\n",
              "      <th>V8</th>\n",
              "      <th>V9</th>\n",
              "      <th>...</th>\n",
              "      <th>V21</th>\n",
              "      <th>V22</th>\n",
              "      <th>V23</th>\n",
              "      <th>V24</th>\n",
              "      <th>V25</th>\n",
              "      <th>V26</th>\n",
              "      <th>V27</th>\n",
              "      <th>V28</th>\n",
              "      <th>Amount</th>\n",
              "      <th>Class</th>\n",
              "    </tr>\n",
              "  </thead>\n",
              "  <tbody>\n",
              "    <tr>\n",
              "      <th>0</th>\n",
              "      <td>0.0</td>\n",
              "      <td>-1.359807</td>\n",
              "      <td>-0.072781</td>\n",
              "      <td>2.536347</td>\n",
              "      <td>1.378155</td>\n",
              "      <td>-0.338321</td>\n",
              "      <td>0.462388</td>\n",
              "      <td>0.239599</td>\n",
              "      <td>0.098698</td>\n",
              "      <td>0.363787</td>\n",
              "      <td>...</td>\n",
              "      <td>-0.018307</td>\n",
              "      <td>0.277838</td>\n",
              "      <td>-0.110474</td>\n",
              "      <td>0.066928</td>\n",
              "      <td>0.128539</td>\n",
              "      <td>-0.189115</td>\n",
              "      <td>0.133558</td>\n",
              "      <td>-0.021053</td>\n",
              "      <td>149.62</td>\n",
              "      <td>0</td>\n",
              "    </tr>\n",
              "    <tr>\n",
              "      <th>1</th>\n",
              "      <td>0.0</td>\n",
              "      <td>1.191857</td>\n",
              "      <td>0.266151</td>\n",
              "      <td>0.166480</td>\n",
              "      <td>0.448154</td>\n",
              "      <td>0.060018</td>\n",
              "      <td>-0.082361</td>\n",
              "      <td>-0.078803</td>\n",
              "      <td>0.085102</td>\n",
              "      <td>-0.255425</td>\n",
              "      <td>...</td>\n",
              "      <td>-0.225775</td>\n",
              "      <td>-0.638672</td>\n",
              "      <td>0.101288</td>\n",
              "      <td>-0.339846</td>\n",
              "      <td>0.167170</td>\n",
              "      <td>0.125895</td>\n",
              "      <td>-0.008983</td>\n",
              "      <td>0.014724</td>\n",
              "      <td>2.69</td>\n",
              "      <td>0</td>\n",
              "    </tr>\n",
              "    <tr>\n",
              "      <th>2</th>\n",
              "      <td>1.0</td>\n",
              "      <td>-1.358354</td>\n",
              "      <td>-1.340163</td>\n",
              "      <td>1.773209</td>\n",
              "      <td>0.379780</td>\n",
              "      <td>-0.503198</td>\n",
              "      <td>1.800499</td>\n",
              "      <td>0.791461</td>\n",
              "      <td>0.247676</td>\n",
              "      <td>-1.514654</td>\n",
              "      <td>...</td>\n",
              "      <td>0.247998</td>\n",
              "      <td>0.771679</td>\n",
              "      <td>0.909412</td>\n",
              "      <td>-0.689281</td>\n",
              "      <td>-0.327642</td>\n",
              "      <td>-0.139097</td>\n",
              "      <td>-0.055353</td>\n",
              "      <td>-0.059752</td>\n",
              "      <td>378.66</td>\n",
              "      <td>0</td>\n",
              "    </tr>\n",
              "    <tr>\n",
              "      <th>3</th>\n",
              "      <td>1.0</td>\n",
              "      <td>-0.966272</td>\n",
              "      <td>-0.185226</td>\n",
              "      <td>1.792993</td>\n",
              "      <td>-0.863291</td>\n",
              "      <td>-0.010309</td>\n",
              "      <td>1.247203</td>\n",
              "      <td>0.237609</td>\n",
              "      <td>0.377436</td>\n",
              "      <td>-1.387024</td>\n",
              "      <td>...</td>\n",
              "      <td>-0.108300</td>\n",
              "      <td>0.005274</td>\n",
              "      <td>-0.190321</td>\n",
              "      <td>-1.175575</td>\n",
              "      <td>0.647376</td>\n",
              "      <td>-0.221929</td>\n",
              "      <td>0.062723</td>\n",
              "      <td>0.061458</td>\n",
              "      <td>123.50</td>\n",
              "      <td>0</td>\n",
              "    </tr>\n",
              "    <tr>\n",
              "      <th>4</th>\n",
              "      <td>2.0</td>\n",
              "      <td>-1.158233</td>\n",
              "      <td>0.877737</td>\n",
              "      <td>1.548718</td>\n",
              "      <td>0.403034</td>\n",
              "      <td>-0.407193</td>\n",
              "      <td>0.095921</td>\n",
              "      <td>0.592941</td>\n",
              "      <td>-0.270533</td>\n",
              "      <td>0.817739</td>\n",
              "      <td>...</td>\n",
              "      <td>-0.009431</td>\n",
              "      <td>0.798278</td>\n",
              "      <td>-0.137458</td>\n",
              "      <td>0.141267</td>\n",
              "      <td>-0.206010</td>\n",
              "      <td>0.502292</td>\n",
              "      <td>0.219422</td>\n",
              "      <td>0.215153</td>\n",
              "      <td>69.99</td>\n",
              "      <td>0</td>\n",
              "    </tr>\n",
              "  </tbody>\n",
              "</table>\n",
              "<p>5 rows × 31 columns</p>\n",
              "</div>\n",
              "      <button class=\"colab-df-convert\" onclick=\"convertToInteractive('df-b9a99979-8ec1-408e-b1d6-e38217b33245')\"\n",
              "              title=\"Convert this dataframe to an interactive table.\"\n",
              "              style=\"display:none;\">\n",
              "        \n",
              "  <svg xmlns=\"http://www.w3.org/2000/svg\" height=\"24px\"viewBox=\"0 0 24 24\"\n",
              "       width=\"24px\">\n",
              "    <path d=\"M0 0h24v24H0V0z\" fill=\"none\"/>\n",
              "    <path d=\"M18.56 5.44l.94 2.06.94-2.06 2.06-.94-2.06-.94-.94-2.06-.94 2.06-2.06.94zm-11 1L8.5 8.5l.94-2.06 2.06-.94-2.06-.94L8.5 2.5l-.94 2.06-2.06.94zm10 10l.94 2.06.94-2.06 2.06-.94-2.06-.94-.94-2.06-.94 2.06-2.06.94z\"/><path d=\"M17.41 7.96l-1.37-1.37c-.4-.4-.92-.59-1.43-.59-.52 0-1.04.2-1.43.59L10.3 9.45l-7.72 7.72c-.78.78-.78 2.05 0 2.83L4 21.41c.39.39.9.59 1.41.59.51 0 1.02-.2 1.41-.59l7.78-7.78 2.81-2.81c.8-.78.8-2.07 0-2.86zM5.41 20L4 18.59l7.72-7.72 1.47 1.35L5.41 20z\"/>\n",
              "  </svg>\n",
              "      </button>\n",
              "      \n",
              "  <style>\n",
              "    .colab-df-container {\n",
              "      display:flex;\n",
              "      flex-wrap:wrap;\n",
              "      gap: 12px;\n",
              "    }\n",
              "\n",
              "    .colab-df-convert {\n",
              "      background-color: #E8F0FE;\n",
              "      border: none;\n",
              "      border-radius: 50%;\n",
              "      cursor: pointer;\n",
              "      display: none;\n",
              "      fill: #1967D2;\n",
              "      height: 32px;\n",
              "      padding: 0 0 0 0;\n",
              "      width: 32px;\n",
              "    }\n",
              "\n",
              "    .colab-df-convert:hover {\n",
              "      background-color: #E2EBFA;\n",
              "      box-shadow: 0px 1px 2px rgba(60, 64, 67, 0.3), 0px 1px 3px 1px rgba(60, 64, 67, 0.15);\n",
              "      fill: #174EA6;\n",
              "    }\n",
              "\n",
              "    [theme=dark] .colab-df-convert {\n",
              "      background-color: #3B4455;\n",
              "      fill: #D2E3FC;\n",
              "    }\n",
              "\n",
              "    [theme=dark] .colab-df-convert:hover {\n",
              "      background-color: #434B5C;\n",
              "      box-shadow: 0px 1px 3px 1px rgba(0, 0, 0, 0.15);\n",
              "      filter: drop-shadow(0px 1px 2px rgba(0, 0, 0, 0.3));\n",
              "      fill: #FFFFFF;\n",
              "    }\n",
              "  </style>\n",
              "\n",
              "      <script>\n",
              "        const buttonEl =\n",
              "          document.querySelector('#df-b9a99979-8ec1-408e-b1d6-e38217b33245 button.colab-df-convert');\n",
              "        buttonEl.style.display =\n",
              "          google.colab.kernel.accessAllowed ? 'block' : 'none';\n",
              "\n",
              "        async function convertToInteractive(key) {\n",
              "          const element = document.querySelector('#df-b9a99979-8ec1-408e-b1d6-e38217b33245');\n",
              "          const dataTable =\n",
              "            await google.colab.kernel.invokeFunction('convertToInteractive',\n",
              "                                                     [key], {});\n",
              "          if (!dataTable) return;\n",
              "\n",
              "          const docLinkHtml = 'Like what you see? Visit the ' +\n",
              "            '<a target=\"_blank\" href=https://colab.research.google.com/notebooks/data_table.ipynb>data table notebook</a>'\n",
              "            + ' to learn more about interactive tables.';\n",
              "          element.innerHTML = '';\n",
              "          dataTable['output_type'] = 'display_data';\n",
              "          await google.colab.output.renderOutput(dataTable, element);\n",
              "          const docLink = document.createElement('div');\n",
              "          docLink.innerHTML = docLinkHtml;\n",
              "          element.appendChild(docLink);\n",
              "        }\n",
              "      </script>\n",
              "    </div>\n",
              "  </div>\n",
              "  "
            ]
          },
          "metadata": {},
          "execution_count": 1
        }
      ],
      "source": [
        "import numpy as np # linear algebra\n",
        "import pandas as pd # data processing, CSV file I/O (e.g. pd.read_csv)\n",
        "import matplotlib.pyplot as plt\n",
        "\n",
        "data = pd.read_csv('/content/drive/MyDrive/CC_detection/creditcard.csv')\n",
        "data.head()"
      ]
    },
    {
      "cell_type": "code",
      "source": [
        "np.shape(data)"
      ],
      "metadata": {
        "colab": {
          "base_uri": "https://localhost:8080/"
        },
        "id": "PI5VNx1JNCRl",
        "outputId": "7a01ad2c-2563-4f44-cc99-79c1a9407035"
      },
      "execution_count": null,
      "outputs": [
        {
          "output_type": "execute_result",
          "data": {
            "text/plain": [
              "(284807, 31)"
            ]
          },
          "metadata": {},
          "execution_count": 2
        }
      ]
    },
    {
      "cell_type": "code",
      "source": [
        "data.describe()"
      ],
      "metadata": {
        "colab": {
          "base_uri": "https://localhost:8080/",
          "height": 393
        },
        "id": "TgNLRlZANFrJ",
        "outputId": "4b7b2171-8b62-4aed-c73f-a469a03bd6f5"
      },
      "execution_count": null,
      "outputs": [
        {
          "output_type": "execute_result",
          "data": {
            "text/plain": [
              "                Time            V1            V2            V3            V4  \\\n",
              "count  284807.000000  2.848070e+05  2.848070e+05  2.848070e+05  2.848070e+05   \n",
              "mean    94813.859575  1.168375e-15  3.416908e-16 -1.379537e-15  2.074095e-15   \n",
              "std     47488.145955  1.958696e+00  1.651309e+00  1.516255e+00  1.415869e+00   \n",
              "min         0.000000 -5.640751e+01 -7.271573e+01 -4.832559e+01 -5.683171e+00   \n",
              "25%     54201.500000 -9.203734e-01 -5.985499e-01 -8.903648e-01 -8.486401e-01   \n",
              "50%     84692.000000  1.810880e-02  6.548556e-02  1.798463e-01 -1.984653e-02   \n",
              "75%    139320.500000  1.315642e+00  8.037239e-01  1.027196e+00  7.433413e-01   \n",
              "max    172792.000000  2.454930e+00  2.205773e+01  9.382558e+00  1.687534e+01   \n",
              "\n",
              "                 V5            V6            V7            V8            V9  \\\n",
              "count  2.848070e+05  2.848070e+05  2.848070e+05  2.848070e+05  2.848070e+05   \n",
              "mean   9.604066e-16  1.487313e-15 -5.556467e-16  1.213481e-16 -2.406331e-15   \n",
              "std    1.380247e+00  1.332271e+00  1.237094e+00  1.194353e+00  1.098632e+00   \n",
              "min   -1.137433e+02 -2.616051e+01 -4.355724e+01 -7.321672e+01 -1.343407e+01   \n",
              "25%   -6.915971e-01 -7.682956e-01 -5.540759e-01 -2.086297e-01 -6.430976e-01   \n",
              "50%   -5.433583e-02 -2.741871e-01  4.010308e-02  2.235804e-02 -5.142873e-02   \n",
              "75%    6.119264e-01  3.985649e-01  5.704361e-01  3.273459e-01  5.971390e-01   \n",
              "max    3.480167e+01  7.330163e+01  1.205895e+02  2.000721e+01  1.559499e+01   \n",
              "\n",
              "       ...           V21           V22           V23           V24  \\\n",
              "count  ...  2.848070e+05  2.848070e+05  2.848070e+05  2.848070e+05   \n",
              "mean   ...  1.654067e-16 -3.568593e-16  2.578648e-16  4.473266e-15   \n",
              "std    ...  7.345240e-01  7.257016e-01  6.244603e-01  6.056471e-01   \n",
              "min    ... -3.483038e+01 -1.093314e+01 -4.480774e+01 -2.836627e+00   \n",
              "25%    ... -2.283949e-01 -5.423504e-01 -1.618463e-01 -3.545861e-01   \n",
              "50%    ... -2.945017e-02  6.781943e-03 -1.119293e-02  4.097606e-02   \n",
              "75%    ...  1.863772e-01  5.285536e-01  1.476421e-01  4.395266e-01   \n",
              "max    ...  2.720284e+01  1.050309e+01  2.252841e+01  4.584549e+00   \n",
              "\n",
              "                V25           V26           V27           V28         Amount  \\\n",
              "count  2.848070e+05  2.848070e+05  2.848070e+05  2.848070e+05  284807.000000   \n",
              "mean   5.340915e-16  1.683437e-15 -3.660091e-16 -1.227390e-16      88.349619   \n",
              "std    5.212781e-01  4.822270e-01  4.036325e-01  3.300833e-01     250.120109   \n",
              "min   -1.029540e+01 -2.604551e+00 -2.256568e+01 -1.543008e+01       0.000000   \n",
              "25%   -3.171451e-01 -3.269839e-01 -7.083953e-02 -5.295979e-02       5.600000   \n",
              "50%    1.659350e-02 -5.213911e-02  1.342146e-03  1.124383e-02      22.000000   \n",
              "75%    3.507156e-01  2.409522e-01  9.104512e-02  7.827995e-02      77.165000   \n",
              "max    7.519589e+00  3.517346e+00  3.161220e+01  3.384781e+01   25691.160000   \n",
              "\n",
              "               Class  \n",
              "count  284807.000000  \n",
              "mean        0.001727  \n",
              "std         0.041527  \n",
              "min         0.000000  \n",
              "25%         0.000000  \n",
              "50%         0.000000  \n",
              "75%         0.000000  \n",
              "max         1.000000  \n",
              "\n",
              "[8 rows x 31 columns]"
            ],
            "text/html": [
              "\n",
              "  <div id=\"df-9cd1ecfc-5119-463c-96af-7ee479624982\">\n",
              "    <div class=\"colab-df-container\">\n",
              "      <div>\n",
              "<style scoped>\n",
              "    .dataframe tbody tr th:only-of-type {\n",
              "        vertical-align: middle;\n",
              "    }\n",
              "\n",
              "    .dataframe tbody tr th {\n",
              "        vertical-align: top;\n",
              "    }\n",
              "\n",
              "    .dataframe thead th {\n",
              "        text-align: right;\n",
              "    }\n",
              "</style>\n",
              "<table border=\"1\" class=\"dataframe\">\n",
              "  <thead>\n",
              "    <tr style=\"text-align: right;\">\n",
              "      <th></th>\n",
              "      <th>Time</th>\n",
              "      <th>V1</th>\n",
              "      <th>V2</th>\n",
              "      <th>V3</th>\n",
              "      <th>V4</th>\n",
              "      <th>V5</th>\n",
              "      <th>V6</th>\n",
              "      <th>V7</th>\n",
              "      <th>V8</th>\n",
              "      <th>V9</th>\n",
              "      <th>...</th>\n",
              "      <th>V21</th>\n",
              "      <th>V22</th>\n",
              "      <th>V23</th>\n",
              "      <th>V24</th>\n",
              "      <th>V25</th>\n",
              "      <th>V26</th>\n",
              "      <th>V27</th>\n",
              "      <th>V28</th>\n",
              "      <th>Amount</th>\n",
              "      <th>Class</th>\n",
              "    </tr>\n",
              "  </thead>\n",
              "  <tbody>\n",
              "    <tr>\n",
              "      <th>count</th>\n",
              "      <td>284807.000000</td>\n",
              "      <td>2.848070e+05</td>\n",
              "      <td>2.848070e+05</td>\n",
              "      <td>2.848070e+05</td>\n",
              "      <td>2.848070e+05</td>\n",
              "      <td>2.848070e+05</td>\n",
              "      <td>2.848070e+05</td>\n",
              "      <td>2.848070e+05</td>\n",
              "      <td>2.848070e+05</td>\n",
              "      <td>2.848070e+05</td>\n",
              "      <td>...</td>\n",
              "      <td>2.848070e+05</td>\n",
              "      <td>2.848070e+05</td>\n",
              "      <td>2.848070e+05</td>\n",
              "      <td>2.848070e+05</td>\n",
              "      <td>2.848070e+05</td>\n",
              "      <td>2.848070e+05</td>\n",
              "      <td>2.848070e+05</td>\n",
              "      <td>2.848070e+05</td>\n",
              "      <td>284807.000000</td>\n",
              "      <td>284807.000000</td>\n",
              "    </tr>\n",
              "    <tr>\n",
              "      <th>mean</th>\n",
              "      <td>94813.859575</td>\n",
              "      <td>1.168375e-15</td>\n",
              "      <td>3.416908e-16</td>\n",
              "      <td>-1.379537e-15</td>\n",
              "      <td>2.074095e-15</td>\n",
              "      <td>9.604066e-16</td>\n",
              "      <td>1.487313e-15</td>\n",
              "      <td>-5.556467e-16</td>\n",
              "      <td>1.213481e-16</td>\n",
              "      <td>-2.406331e-15</td>\n",
              "      <td>...</td>\n",
              "      <td>1.654067e-16</td>\n",
              "      <td>-3.568593e-16</td>\n",
              "      <td>2.578648e-16</td>\n",
              "      <td>4.473266e-15</td>\n",
              "      <td>5.340915e-16</td>\n",
              "      <td>1.683437e-15</td>\n",
              "      <td>-3.660091e-16</td>\n",
              "      <td>-1.227390e-16</td>\n",
              "      <td>88.349619</td>\n",
              "      <td>0.001727</td>\n",
              "    </tr>\n",
              "    <tr>\n",
              "      <th>std</th>\n",
              "      <td>47488.145955</td>\n",
              "      <td>1.958696e+00</td>\n",
              "      <td>1.651309e+00</td>\n",
              "      <td>1.516255e+00</td>\n",
              "      <td>1.415869e+00</td>\n",
              "      <td>1.380247e+00</td>\n",
              "      <td>1.332271e+00</td>\n",
              "      <td>1.237094e+00</td>\n",
              "      <td>1.194353e+00</td>\n",
              "      <td>1.098632e+00</td>\n",
              "      <td>...</td>\n",
              "      <td>7.345240e-01</td>\n",
              "      <td>7.257016e-01</td>\n",
              "      <td>6.244603e-01</td>\n",
              "      <td>6.056471e-01</td>\n",
              "      <td>5.212781e-01</td>\n",
              "      <td>4.822270e-01</td>\n",
              "      <td>4.036325e-01</td>\n",
              "      <td>3.300833e-01</td>\n",
              "      <td>250.120109</td>\n",
              "      <td>0.041527</td>\n",
              "    </tr>\n",
              "    <tr>\n",
              "      <th>min</th>\n",
              "      <td>0.000000</td>\n",
              "      <td>-5.640751e+01</td>\n",
              "      <td>-7.271573e+01</td>\n",
              "      <td>-4.832559e+01</td>\n",
              "      <td>-5.683171e+00</td>\n",
              "      <td>-1.137433e+02</td>\n",
              "      <td>-2.616051e+01</td>\n",
              "      <td>-4.355724e+01</td>\n",
              "      <td>-7.321672e+01</td>\n",
              "      <td>-1.343407e+01</td>\n",
              "      <td>...</td>\n",
              "      <td>-3.483038e+01</td>\n",
              "      <td>-1.093314e+01</td>\n",
              "      <td>-4.480774e+01</td>\n",
              "      <td>-2.836627e+00</td>\n",
              "      <td>-1.029540e+01</td>\n",
              "      <td>-2.604551e+00</td>\n",
              "      <td>-2.256568e+01</td>\n",
              "      <td>-1.543008e+01</td>\n",
              "      <td>0.000000</td>\n",
              "      <td>0.000000</td>\n",
              "    </tr>\n",
              "    <tr>\n",
              "      <th>25%</th>\n",
              "      <td>54201.500000</td>\n",
              "      <td>-9.203734e-01</td>\n",
              "      <td>-5.985499e-01</td>\n",
              "      <td>-8.903648e-01</td>\n",
              "      <td>-8.486401e-01</td>\n",
              "      <td>-6.915971e-01</td>\n",
              "      <td>-7.682956e-01</td>\n",
              "      <td>-5.540759e-01</td>\n",
              "      <td>-2.086297e-01</td>\n",
              "      <td>-6.430976e-01</td>\n",
              "      <td>...</td>\n",
              "      <td>-2.283949e-01</td>\n",
              "      <td>-5.423504e-01</td>\n",
              "      <td>-1.618463e-01</td>\n",
              "      <td>-3.545861e-01</td>\n",
              "      <td>-3.171451e-01</td>\n",
              "      <td>-3.269839e-01</td>\n",
              "      <td>-7.083953e-02</td>\n",
              "      <td>-5.295979e-02</td>\n",
              "      <td>5.600000</td>\n",
              "      <td>0.000000</td>\n",
              "    </tr>\n",
              "    <tr>\n",
              "      <th>50%</th>\n",
              "      <td>84692.000000</td>\n",
              "      <td>1.810880e-02</td>\n",
              "      <td>6.548556e-02</td>\n",
              "      <td>1.798463e-01</td>\n",
              "      <td>-1.984653e-02</td>\n",
              "      <td>-5.433583e-02</td>\n",
              "      <td>-2.741871e-01</td>\n",
              "      <td>4.010308e-02</td>\n",
              "      <td>2.235804e-02</td>\n",
              "      <td>-5.142873e-02</td>\n",
              "      <td>...</td>\n",
              "      <td>-2.945017e-02</td>\n",
              "      <td>6.781943e-03</td>\n",
              "      <td>-1.119293e-02</td>\n",
              "      <td>4.097606e-02</td>\n",
              "      <td>1.659350e-02</td>\n",
              "      <td>-5.213911e-02</td>\n",
              "      <td>1.342146e-03</td>\n",
              "      <td>1.124383e-02</td>\n",
              "      <td>22.000000</td>\n",
              "      <td>0.000000</td>\n",
              "    </tr>\n",
              "    <tr>\n",
              "      <th>75%</th>\n",
              "      <td>139320.500000</td>\n",
              "      <td>1.315642e+00</td>\n",
              "      <td>8.037239e-01</td>\n",
              "      <td>1.027196e+00</td>\n",
              "      <td>7.433413e-01</td>\n",
              "      <td>6.119264e-01</td>\n",
              "      <td>3.985649e-01</td>\n",
              "      <td>5.704361e-01</td>\n",
              "      <td>3.273459e-01</td>\n",
              "      <td>5.971390e-01</td>\n",
              "      <td>...</td>\n",
              "      <td>1.863772e-01</td>\n",
              "      <td>5.285536e-01</td>\n",
              "      <td>1.476421e-01</td>\n",
              "      <td>4.395266e-01</td>\n",
              "      <td>3.507156e-01</td>\n",
              "      <td>2.409522e-01</td>\n",
              "      <td>9.104512e-02</td>\n",
              "      <td>7.827995e-02</td>\n",
              "      <td>77.165000</td>\n",
              "      <td>0.000000</td>\n",
              "    </tr>\n",
              "    <tr>\n",
              "      <th>max</th>\n",
              "      <td>172792.000000</td>\n",
              "      <td>2.454930e+00</td>\n",
              "      <td>2.205773e+01</td>\n",
              "      <td>9.382558e+00</td>\n",
              "      <td>1.687534e+01</td>\n",
              "      <td>3.480167e+01</td>\n",
              "      <td>7.330163e+01</td>\n",
              "      <td>1.205895e+02</td>\n",
              "      <td>2.000721e+01</td>\n",
              "      <td>1.559499e+01</td>\n",
              "      <td>...</td>\n",
              "      <td>2.720284e+01</td>\n",
              "      <td>1.050309e+01</td>\n",
              "      <td>2.252841e+01</td>\n",
              "      <td>4.584549e+00</td>\n",
              "      <td>7.519589e+00</td>\n",
              "      <td>3.517346e+00</td>\n",
              "      <td>3.161220e+01</td>\n",
              "      <td>3.384781e+01</td>\n",
              "      <td>25691.160000</td>\n",
              "      <td>1.000000</td>\n",
              "    </tr>\n",
              "  </tbody>\n",
              "</table>\n",
              "<p>8 rows × 31 columns</p>\n",
              "</div>\n",
              "      <button class=\"colab-df-convert\" onclick=\"convertToInteractive('df-9cd1ecfc-5119-463c-96af-7ee479624982')\"\n",
              "              title=\"Convert this dataframe to an interactive table.\"\n",
              "              style=\"display:none;\">\n",
              "        \n",
              "  <svg xmlns=\"http://www.w3.org/2000/svg\" height=\"24px\"viewBox=\"0 0 24 24\"\n",
              "       width=\"24px\">\n",
              "    <path d=\"M0 0h24v24H0V0z\" fill=\"none\"/>\n",
              "    <path d=\"M18.56 5.44l.94 2.06.94-2.06 2.06-.94-2.06-.94-.94-2.06-.94 2.06-2.06.94zm-11 1L8.5 8.5l.94-2.06 2.06-.94-2.06-.94L8.5 2.5l-.94 2.06-2.06.94zm10 10l.94 2.06.94-2.06 2.06-.94-2.06-.94-.94-2.06-.94 2.06-2.06.94z\"/><path d=\"M17.41 7.96l-1.37-1.37c-.4-.4-.92-.59-1.43-.59-.52 0-1.04.2-1.43.59L10.3 9.45l-7.72 7.72c-.78.78-.78 2.05 0 2.83L4 21.41c.39.39.9.59 1.41.59.51 0 1.02-.2 1.41-.59l7.78-7.78 2.81-2.81c.8-.78.8-2.07 0-2.86zM5.41 20L4 18.59l7.72-7.72 1.47 1.35L5.41 20z\"/>\n",
              "  </svg>\n",
              "      </button>\n",
              "      \n",
              "  <style>\n",
              "    .colab-df-container {\n",
              "      display:flex;\n",
              "      flex-wrap:wrap;\n",
              "      gap: 12px;\n",
              "    }\n",
              "\n",
              "    .colab-df-convert {\n",
              "      background-color: #E8F0FE;\n",
              "      border: none;\n",
              "      border-radius: 50%;\n",
              "      cursor: pointer;\n",
              "      display: none;\n",
              "      fill: #1967D2;\n",
              "      height: 32px;\n",
              "      padding: 0 0 0 0;\n",
              "      width: 32px;\n",
              "    }\n",
              "\n",
              "    .colab-df-convert:hover {\n",
              "      background-color: #E2EBFA;\n",
              "      box-shadow: 0px 1px 2px rgba(60, 64, 67, 0.3), 0px 1px 3px 1px rgba(60, 64, 67, 0.15);\n",
              "      fill: #174EA6;\n",
              "    }\n",
              "\n",
              "    [theme=dark] .colab-df-convert {\n",
              "      background-color: #3B4455;\n",
              "      fill: #D2E3FC;\n",
              "    }\n",
              "\n",
              "    [theme=dark] .colab-df-convert:hover {\n",
              "      background-color: #434B5C;\n",
              "      box-shadow: 0px 1px 3px 1px rgba(0, 0, 0, 0.15);\n",
              "      filter: drop-shadow(0px 1px 2px rgba(0, 0, 0, 0.3));\n",
              "      fill: #FFFFFF;\n",
              "    }\n",
              "  </style>\n",
              "\n",
              "      <script>\n",
              "        const buttonEl =\n",
              "          document.querySelector('#df-9cd1ecfc-5119-463c-96af-7ee479624982 button.colab-df-convert');\n",
              "        buttonEl.style.display =\n",
              "          google.colab.kernel.accessAllowed ? 'block' : 'none';\n",
              "\n",
              "        async function convertToInteractive(key) {\n",
              "          const element = document.querySelector('#df-9cd1ecfc-5119-463c-96af-7ee479624982');\n",
              "          const dataTable =\n",
              "            await google.colab.kernel.invokeFunction('convertToInteractive',\n",
              "                                                     [key], {});\n",
              "          if (!dataTable) return;\n",
              "\n",
              "          const docLinkHtml = 'Like what you see? Visit the ' +\n",
              "            '<a target=\"_blank\" href=https://colab.research.google.com/notebooks/data_table.ipynb>data table notebook</a>'\n",
              "            + ' to learn more about interactive tables.';\n",
              "          element.innerHTML = '';\n",
              "          dataTable['output_type'] = 'display_data';\n",
              "          await google.colab.output.renderOutput(dataTable, element);\n",
              "          const docLink = document.createElement('div');\n",
              "          docLink.innerHTML = docLinkHtml;\n",
              "          element.appendChild(docLink);\n",
              "        }\n",
              "      </script>\n",
              "    </div>\n",
              "  </div>\n",
              "  "
            ]
          },
          "metadata": {},
          "execution_count": 3
        }
      ]
    },
    {
      "cell_type": "code",
      "source": [
        "Y = data['Class']\n",
        "X = data.drop('Class',1)"
      ],
      "metadata": {
        "colab": {
          "base_uri": "https://localhost:8080/"
        },
        "id": "E5GVJbCGNMmW",
        "outputId": "e383463b-16f4-4020-b106-2f900d0bdf36"
      },
      "execution_count": null,
      "outputs": [
        {
          "output_type": "stream",
          "name": "stderr",
          "text": [
            "<ipython-input-4-95dd58168ccf>:2: FutureWarning: In a future version of pandas all arguments of DataFrame.drop except for the argument 'labels' will be keyword-only.\n",
            "  X = data.drop('Class',1)\n"
          ]
        }
      ]
    },
    {
      "cell_type": "code",
      "source": [
        "from collections import Counter\n",
        "from matplotlib import pyplot\n",
        "def plot_points(X,Y):\n",
        "    counter_y = Counter(Y)\n",
        "    for label, _ in counter_y.items():\n",
        "        row_ix = np.where(Y == label)[0]\n",
        "        pyplot.scatter(X.iloc[row_ix, 0], X.iloc[row_ix, 1], label=str(label))\n",
        "    pyplot.legend()\n",
        "    pyplot.show()\n",
        "plot_points(X,Y)"
      ],
      "metadata": {
        "colab": {
          "base_uri": "https://localhost:8080/",
          "height": 265
        },
        "id": "AgKymYbvNQF7",
        "outputId": "bafa9220-8d20-4d9d-9e15-7401efa2b48e"
      },
      "execution_count": null,
      "outputs": [
        {
          "output_type": "display_data",
          "data": {
            "text/plain": [
              "<Figure size 432x288 with 1 Axes>"
            ],
            "image/png": "[encoded data removed]"
          },
          "metadata": {
            "needs_background": "light"
          }
        }
      ]
    },
    {
      "cell_type": "code",
      "source": [
        "import math\n",
        "def displayMetrics(y_test,y_pred):\n",
        "    Kappa = metrics.cohen_kappa_score(y_test,y_pred)\n",
        "    precision = metrics.precision_score(y_test,y_pred)\n",
        "    f1_score = metrics.f1_score(y_test,y_pred)\n",
        "    recall = metrics.recall_score(y_test,y_pred)\n",
        "    specificity = metrics.recall_score(y_test,y_pred,pos_label = 0)\n",
        "    G_mean = math.sqrt(recall * specificity)\n",
        "    print({\"Kappa\":Kappa,\"Precision\":precision,\"Recall\":recall,\"F1_score\":f1_score,\"G Mean\":G_mean})"
      ],
      "metadata": {
        "id": "qyfOWYwcNTcf"
      },
      "execution_count": null,
      "outputs": []
    },
    {
      "cell_type": "code",
      "source": [
        "from sklearn import metrics\n",
        "def display_confusion_matrix(actual,predicted):\n",
        "    confusion_matrix = metrics.confusion_matrix(actual, predicted)\n",
        "    cm_display = metrics.ConfusionMatrixDisplay(confusion_matrix = confusion_matrix, display_labels = [False, True])\n",
        "    cm_display.plot()\n",
        "    plt.show()\n",
        "    \n",
        "def roc_curve(y_test,y_pred):\n",
        "    fpr, tpr, _ = metrics.roc_curve(y_test,  y_pred)\n",
        "    auc = metrics.roc_auc_score(y_test, y_pred)\n",
        "#create ROC curve\n",
        "    plt.plot(fpr,tpr,label=\"AUC=\"+str(auc))\n",
        "    plt.ylabel('True Positive Rate')\n",
        "    plt.xlabel('False Positive Rate')\n",
        "    plt.legend(loc=4)\n",
        "    plt.show()"
      ],
      "metadata": {
        "id": "HtlKg0VGNY2N"
      },
      "execution_count": null,
      "outputs": []
    },
    {
      "cell_type": "code",
      "source": [
        "df = data[[\"V4\",\"V10\",\"V12\",\"V14\"]] #dominant features\n",
        "df"
      ],
      "metadata": {
        "colab": {
          "base_uri": "https://localhost:8080/",
          "height": 423
        },
        "id": "-DwvU0YfNh-m",
        "outputId": "3e22d42a-c714-4425-d574-ac7ba1d237fc"
      },
      "execution_count": null,
      "outputs": [
        {
          "output_type": "execute_result",
          "data": {
            "text/plain": [
              "              V4       V10       V12       V14\n",
              "0       1.378155  0.090794 -0.617801 -0.311169\n",
              "1       0.448154 -0.166974  1.065235 -0.143772\n",
              "2       0.379780  0.207643  0.066084 -0.165946\n",
              "3      -0.863291 -0.054952  0.178228 -0.287924\n",
              "4       0.403034  0.753074  0.538196 -1.119670\n",
              "...          ...       ...       ...       ...\n",
              "284802 -2.066656  4.356170  2.711941  4.626942\n",
              "284803 -0.738589 -0.975926  0.915802 -0.675143\n",
              "284804 -0.557828 -0.484782  0.063119 -0.510602\n",
              "284805  0.689799 -0.399126 -0.962886  0.449624\n",
              "284806 -0.506271 -0.915427 -0.031513 -0.084316\n",
              "\n",
              "[284807 rows x 4 columns]"
            ],
            "text/html": [
              "\n",
              "  <div id=\"df-7f043721-56d9-4132-af21-498259e77e11\">\n",
              "    <div class=\"colab-df-container\">\n",
              "      <div>\n",
              "<style scoped>\n",
              "    .dataframe tbody tr th:only-of-type {\n",
              "        vertical-align: middle;\n",
              "    }\n",
              "\n",
              "    .dataframe tbody tr th {\n",
              "        vertical-align: top;\n",
              "    }\n",
              "\n",
              "    .dataframe thead th {\n",
              "        text-align: right;\n",
              "    }\n",
              "</style>\n",
              "<table border=\"1\" class=\"dataframe\">\n",
              "  <thead>\n",
              "    <tr style=\"text-align: right;\">\n",
              "      <th></th>\n",
              "      <th>V4</th>\n",
              "      <th>V10</th>\n",
              "      <th>V12</th>\n",
              "      <th>V14</th>\n",
              "    </tr>\n",
              "  </thead>\n",
              "  <tbody>\n",
              "    <tr>\n",
              "      <th>0</th>\n",
              "      <td>1.378155</td>\n",
              "      <td>0.090794</td>\n",
              "      <td>-0.617801</td>\n",
              "      <td>-0.311169</td>\n",
              "    </tr>\n",
              "    <tr>\n",
              "      <th>1</th>\n",
              "      <td>0.448154</td>\n",
              "      <td>-0.166974</td>\n",
              "      <td>1.065235</td>\n",
              "      <td>-0.143772</td>\n",
              "    </tr>\n",
              "    <tr>\n",
              "      <th>2</th>\n",
              "      <td>0.379780</td>\n",
              "      <td>0.207643</td>\n",
              "      <td>0.066084</td>\n",
              "      <td>-0.165946</td>\n",
              "    </tr>\n",
              "    <tr>\n",
              "      <th>3</th>\n",
              "      <td>-0.863291</td>\n",
              "      <td>-0.054952</td>\n",
              "      <td>0.178228</td>\n",
              "      <td>-0.287924</td>\n",
              "    </tr>\n",
              "    <tr>\n",
              "      <th>4</th>\n",
              "      <td>0.403034</td>\n",
              "      <td>0.753074</td>\n",
              "      <td>0.538196</td>\n",
              "      <td>-1.119670</td>\n",
              "    </tr>\n",
              "    <tr>\n",
              "      <th>...</th>\n",
              "      <td>...</td>\n",
              "      <td>...</td>\n",
              "      <td>...</td>\n",
              "      <td>...</td>\n",
              "    </tr>\n",
              "    <tr>\n",
              "      <th>284802</th>\n",
              "      <td>-2.066656</td>\n",
              "      <td>4.356170</td>\n",
              "      <td>2.711941</td>\n",
              "      <td>4.626942</td>\n",
              "    </tr>\n",
              "    <tr>\n",
              "      <th>284803</th>\n",
              "      <td>-0.738589</td>\n",
              "      <td>-0.975926</td>\n",
              "      <td>0.915802</td>\n",
              "      <td>-0.675143</td>\n",
              "    </tr>\n",
              "    <tr>\n",
              "      <th>284804</th>\n",
              "      <td>-0.557828</td>\n",
              "      <td>-0.484782</td>\n",
              "      <td>0.063119</td>\n",
              "      <td>-0.510602</td>\n",
              "    </tr>\n",
              "    <tr>\n",
              "      <th>284805</th>\n",
              "      <td>0.689799</td>\n",
              "      <td>-0.399126</td>\n",
              "      <td>-0.962886</td>\n",
              "      <td>0.449624</td>\n",
              "    </tr>\n",
              "    <tr>\n",
              "      <th>284806</th>\n",
              "      <td>-0.506271</td>\n",
              "      <td>-0.915427</td>\n",
              "      <td>-0.031513</td>\n",
              "      <td>-0.084316</td>\n",
              "    </tr>\n",
              "  </tbody>\n",
              "</table>\n",
              "<p>284807 rows × 4 columns</p>\n",
              "</div>\n",
              "      <button class=\"colab-df-convert\" onclick=\"convertToInteractive('df-7f043721-56d9-4132-af21-498259e77e11')\"\n",
              "              title=\"Convert this dataframe to an interactive table.\"\n",
              "              style=\"display:none;\">\n",
              "        \n",
              "  <svg xmlns=\"http://www.w3.org/2000/svg\" height=\"24px\"viewBox=\"0 0 24 24\"\n",
              "       width=\"24px\">\n",
              "    <path d=\"M0 0h24v24H0V0z\" fill=\"none\"/>\n",
              "    <path d=\"M18.56 5.44l.94 2.06.94-2.06 2.06-.94-2.06-.94-.94-2.06-.94 2.06-2.06.94zm-11 1L8.5 8.5l.94-2.06 2.06-.94-2.06-.94L8.5 2.5l-.94 2.06-2.06.94zm10 10l.94 2.06.94-2.06 2.06-.94-2.06-.94-.94-2.06-.94 2.06-2.06.94z\"/><path d=\"M17.41 7.96l-1.37-1.37c-.4-.4-.92-.59-1.43-.59-.52 0-1.04.2-1.43.59L10.3 9.45l-7.72 7.72c-.78.78-.78 2.05 0 2.83L4 21.41c.39.39.9.59 1.41.59.51 0 1.02-.2 1.41-.59l7.78-7.78 2.81-2.81c.8-.78.8-2.07 0-2.86zM5.41 20L4 18.59l7.72-7.72 1.47 1.35L5.41 20z\"/>\n",
              "  </svg>\n",
              "      </button>\n",
              "      \n",
              "  <style>\n",
              "    .colab-df-container {\n",
              "      display:flex;\n",
              "      flex-wrap:wrap;\n",
              "      gap: 12px;\n",
              "    }\n",
              "\n",
              "    .colab-df-convert {\n",
              "      background-color: #E8F0FE;\n",
              "      border: none;\n",
              "      border-radius: 50%;\n",
              "      cursor: pointer;\n",
              "      display: none;\n",
              "      fill: #1967D2;\n",
              "      height: 32px;\n",
              "      padding: 0 0 0 0;\n",
              "      width: 32px;\n",
              "    }\n",
              "\n",
              "    .colab-df-convert:hover {\n",
              "      background-color: #E2EBFA;\n",
              "      box-shadow: 0px 1px 2px rgba(60, 64, 67, 0.3), 0px 1px 3px 1px rgba(60, 64, 67, 0.15);\n",
              "      fill: #174EA6;\n",
              "    }\n",
              "\n",
              "    [theme=dark] .colab-df-convert {\n",
              "      background-color: #3B4455;\n",
              "      fill: #D2E3FC;\n",
              "    }\n",
              "\n",
              "    [theme=dark] .colab-df-convert:hover {\n",
              "      background-color: #434B5C;\n",
              "      box-shadow: 0px 1px 3px 1px rgba(0, 0, 0, 0.15);\n",
              "      filter: drop-shadow(0px 1px 2px rgba(0, 0, 0, 0.3));\n",
              "      fill: #FFFFFF;\n",
              "    }\n",
              "  </style>\n",
              "\n",
              "      <script>\n",
              "        const buttonEl =\n",
              "          document.querySelector('#df-7f043721-56d9-4132-af21-498259e77e11 button.colab-df-convert');\n",
              "        buttonEl.style.display =\n",
              "          google.colab.kernel.accessAllowed ? 'block' : 'none';\n",
              "\n",
              "        async function convertToInteractive(key) {\n",
              "          const element = document.querySelector('#df-7f043721-56d9-4132-af21-498259e77e11');\n",
              "          const dataTable =\n",
              "            await google.colab.kernel.invokeFunction('convertToInteractive',\n",
              "                                                     [key], {});\n",
              "          if (!dataTable) return;\n",
              "\n",
              "          const docLinkHtml = 'Like what you see? Visit the ' +\n",
              "            '<a target=\"_blank\" href=https://colab.research.google.com/notebooks/data_table.ipynb>data table notebook</a>'\n",
              "            + ' to learn more about interactive tables.';\n",
              "          element.innerHTML = '';\n",
              "          dataTable['output_type'] = 'display_data';\n",
              "          await google.colab.output.renderOutput(dataTable, element);\n",
              "          const docLink = document.createElement('div');\n",
              "          docLink.innerHTML = docLinkHtml;\n",
              "          element.appendChild(docLink);\n",
              "        }\n",
              "      </script>\n",
              "    </div>\n",
              "  </div>\n",
              "  "
            ]
          },
          "metadata": {},
          "execution_count": 8
        }
      ]
    },
    {
      "cell_type": "code",
      "source": [
        "from imblearn.over_sampling import SMOTE\n",
        "smote = SMOTE()\n",
        "Y = data['Class']\n",
        "smote_X ,smote_Y = smote.fit_resample(df,Y)\n",
        "smote_Y.value_counts()"
      ],
      "metadata": {
        "colab": {
          "base_uri": "https://localhost:8080/"
        },
        "id": "vXzfNt47NlSU",
        "outputId": "0c55b5cf-2348-44d5-b453-925762f9eefb"
      },
      "execution_count": null,
      "outputs": [
        {
          "output_type": "execute_result",
          "data": {
            "text/plain": [
              "0    284315\n",
              "1    284315\n",
              "Name: Class, dtype: int64"
            ]
          },
          "metadata": {},
          "execution_count": 9
        }
      ]
    },
    {
      "cell_type": "code",
      "source": [
        "plot_points(smote_X,smote_Y)"
      ],
      "metadata": {
        "colab": {
          "base_uri": "https://localhost:8080/",
          "height": 265
        },
        "id": "LPhCiBZXNogx",
        "outputId": "3505888a-19f2-47c6-f809-9ca3f539d873"
      },
      "execution_count": null,
      "outputs": [
        {
          "output_type": "display_data",
          "data": {
            "text/plain": [
              "<Figure size 432x288 with 1 Axes>"
            ],
            "image/png": "[encoded data removed]"
          },
          "metadata": {
            "needs_background": "light"
          }
        }
      ]
    },
    {
      "cell_type": "code",
      "source": [
        "Y = data['Class']\n",
        "X = data.drop('Class',1)"
      ],
      "metadata": {
        "colab": {
          "base_uri": "https://localhost:8080/"
        },
        "id": "cMzIbNzpNsMu",
        "outputId": "0aad38db-b610-4eb8-97aa-d0696ad708c3"
      },
      "execution_count": null,
      "outputs": [
        {
          "output_type": "stream",
          "name": "stderr",
          "text": [
            "<ipython-input-11-95dd58168ccf>:2: FutureWarning: In a future version of pandas all arguments of DataFrame.drop except for the argument 'labels' will be keyword-only.\n",
            "  X = data.drop('Class',1)\n"
          ]
        }
      ]
    },
    {
      "cell_type": "code",
      "source": [
        "from sklearn.model_selection import train_test_split\n",
        "X_train, X_test, y_train, y_test = train_test_split(smote_X, smote_Y, test_size=0.5, random_state=0)"
      ],
      "metadata": {
        "id": "BYBXv-TANvsu"
      },
      "execution_count": null,
      "outputs": []
    },
    {
      "cell_type": "code",
      "source": [
        "from sklearn.feature_selection import VarianceThreshold\n",
        "vt = VarianceThreshold(threshold = 0.5)\n",
        "vt.fit_transform(X_train)\n",
        "const_arr = vt.get_support()\n",
        "const_arr"
      ],
      "metadata": {
        "colab": {
          "base_uri": "https://localhost:8080/"
        },
        "id": "ggDy9VicN6zv",
        "outputId": "6eec3b12-e6ed-4f78-9cc0-ad09152410b7"
      },
      "execution_count": null,
      "outputs": [
        {
          "output_type": "execute_result",
          "data": {
            "text/plain": [
              "array([ True,  True,  True,  True])"
            ]
          },
          "metadata": {},
          "execution_count": 13
        }
      ]
    },
    {
      "cell_type": "code",
      "source": [
        "from sklearn.linear_model import LogisticRegression\n",
        "lr = LogisticRegression()\n",
        "y_pred = lr.fit(X_train,y_train).predict(X_test)\n",
        "display_confusion_matrix(y_test,y_pred)\n",
        "displayMetrics(y_test,y_pred)"
      ],
      "metadata": {
        "colab": {
          "base_uri": "https://localhost:8080/",
          "height": 316
        },
        "id": "Sr9O_JrtN9gM",
        "outputId": "eff6e667-5c26-4f06-fe99-739ccd4002b3"
      },
      "execution_count": null,
      "outputs": [
        {
          "output_type": "display_data",
          "data": {
            "text/plain": [
              "<Figure size 432x288 with 2 Axes>"
            ],
            "image/png": "[encoded data removed]"
          },
          "metadata": {
            "needs_background": "light"
          }
        },
        {
          "output_type": "stream",
          "name": "stdout",
          "text": [
            "{'Kappa': 0.8721398502582263, 'Precision': 0.97358406944402, 'Recall': 0.8964398789840287, 'F1_score': 0.9334207576612282, 'G Mean': 0.9352242418488377}\n"
          ]
        }
      ]
    },
    {
      "cell_type": "code",
      "source": [
        "roc_curve(y_test,y_pred)"
      ],
      "metadata": {
        "colab": {
          "base_uri": "https://localhost:8080/",
          "height": 279
        },
        "id": "T5sM8jtlOAJr",
        "outputId": "0c9a0481-fcb5-4f7a-8429-7b886e9b7690"
      },
      "execution_count": null,
      "outputs": [
        {
          "output_type": "display_data",
          "data": {
            "text/plain": [
              "<Figure size 432x288 with 1 Axes>"
            ],
            "image/png": "[encoded data removed]"
          },
          "metadata": {
            "needs_background": "light"
          }
        }
      ]
    },
    {
      "cell_type": "code",
      "source": [
        "import keras\n",
        "import tensorflow as tf\n",
        "from keras import backend as K\n",
        "from keras.models import Sequential\n",
        "from keras.layers import Dense, Dropout\n",
        "from tensorflow.keras.optimizers import Adam\n",
        "from keras.wrappers.scikit_learn import KerasClassifier\n",
        "from keras.constraints import maxnorm\n",
        "from keras.utils.vis_utils import plot_model"
      ],
      "metadata": {
        "id": "JCx0_ThHODOw"
      },
      "execution_count": null,
      "outputs": []
    },
    {
      "cell_type": "code",
      "source": [
        "#Training a Multi-layer perceptron with 1 hidden layer on smote resampled data.\n",
        "n_inputs = smote_X.shape[1]\n",
        "es= keras.callbacks.EarlyStopping(monitor='val_loss',\n",
        "                              min_delta=0,\n",
        "                              patience=2,\n",
        "                              verbose=0, mode='min', restore_best_weights= True)\n",
        "#Model Creation\n",
        "Model1 = Sequential()\n",
        "Model1.add(Dense(65, input_shape=(n_inputs, ), kernel_initializer='he_normal', activation='relu'))\n",
        "Model1.add(Dense(1, kernel_initializer='he_normal', activation='sigmoid'))\n",
        "\n",
        "#Compile Model\n",
        "Model1.compile(Adam(lr=0.01), loss='binary_crossentropy', metrics=['accuracy'])\n",
        "Model1.summary()\n",
        "\n",
        "#Fit Model\n",
        "history1= Model1.fit(X_train, y_train, validation_data=(X_test, y_test), batch_size=700, epochs=30, callbacks=[es], shuffle=True, verbose=2)\n",
        "print(history1.history.keys())"
      ],
      "metadata": {
        "colab": {
          "base_uri": "https://localhost:8080/"
        },
        "id": "EqoOp0O9OGIf",
        "outputId": "da413644-3305-404d-b3d2-b41ce0866c69"
      },
      "execution_count": null,
      "outputs": [
        {
          "output_type": "stream",
          "name": "stderr",
          "text": [
            "WARNING:absl:`lr` is deprecated, please use `learning_rate` instead, or use the legacy optimizer, e.g.,tf.keras.optimizers.legacy.Adam.\n"
          ]
        },
        {
          "output_type": "stream",
          "name": "stdout",
          "text": [
            "Model: \"sequential\"\n",
            "_________________________________________________________________\n",
            " Layer (type)                Output Shape              Param #   \n",
            "=================================================================\n",
            " dense (Dense)               (None, 65)                325       \n",
            "                                                                 \n",
            " dense_1 (Dense)             (None, 1)                 66        \n",
            "                                                                 \n",
            "=================================================================\n",
            "Total params: 391\n",
            "Trainable params: 391\n",
            "Non-trainable params: 0\n",
            "_________________________________________________________________\n",
            "Epoch 1/30\n",
            "407/407 - 3s - loss: 0.1986 - accuracy: 0.9256 - val_loss: 0.1535 - val_accuracy: 0.9436 - 3s/epoch - 8ms/step\n",
            "Epoch 2/30\n",
            "407/407 - 1s - loss: 0.1490 - accuracy: 0.9447 - val_loss: 0.1470 - val_accuracy: 0.9447 - 1s/epoch - 3ms/step\n",
            "Epoch 3/30\n",
            "407/407 - 1s - loss: 0.1445 - accuracy: 0.9449 - val_loss: 0.1432 - val_accuracy: 0.9454 - 1s/epoch - 3ms/step\n",
            "Epoch 4/30\n",
            "407/407 - 1s - loss: 0.1414 - accuracy: 0.9455 - val_loss: 0.1404 - val_accuracy: 0.9459 - 1s/epoch - 3ms/step\n",
            "Epoch 5/30\n",
            "407/407 - 1s - loss: 0.1386 - accuracy: 0.9463 - val_loss: 0.1375 - val_accuracy: 0.9468 - 1s/epoch - 3ms/step\n",
            "Epoch 6/30\n",
            "407/407 - 1s - loss: 0.1358 - accuracy: 0.9471 - val_loss: 0.1347 - val_accuracy: 0.9473 - 1s/epoch - 3ms/step\n",
            "Epoch 7/30\n",
            "407/407 - 2s - loss: 0.1330 - accuracy: 0.9476 - val_loss: 0.1327 - val_accuracy: 0.9469 - 2s/epoch - 6ms/step\n",
            "Epoch 8/30\n",
            "407/407 - 2s - loss: 0.1305 - accuracy: 0.9482 - val_loss: 0.1296 - val_accuracy: 0.9490 - 2s/epoch - 6ms/step\n",
            "Epoch 9/30\n",
            "407/407 - 3s - loss: 0.1283 - accuracy: 0.9487 - val_loss: 0.1274 - val_accuracy: 0.9492 - 3s/epoch - 6ms/step\n",
            "Epoch 10/30\n",
            "407/407 - 1s - loss: 0.1264 - accuracy: 0.9493 - val_loss: 0.1259 - val_accuracy: 0.9502 - 1s/epoch - 3ms/step\n",
            "Epoch 11/30\n",
            "407/407 - 1s - loss: 0.1248 - accuracy: 0.9495 - val_loss: 0.1246 - val_accuracy: 0.9504 - 1s/epoch - 3ms/step\n",
            "Epoch 12/30\n",
            "407/407 - 1s - loss: 0.1232 - accuracy: 0.9505 - val_loss: 0.1227 - val_accuracy: 0.9507 - 1s/epoch - 3ms/step\n",
            "Epoch 13/30\n",
            "407/407 - 1s - loss: 0.1218 - accuracy: 0.9505 - val_loss: 0.1213 - val_accuracy: 0.9507 - 1s/epoch - 3ms/step\n",
            "Epoch 14/30\n",
            "407/407 - 1s - loss: 0.1204 - accuracy: 0.9511 - val_loss: 0.1201 - val_accuracy: 0.9511 - 1s/epoch - 3ms/step\n",
            "Epoch 15/30\n",
            "407/407 - 2s - loss: 0.1191 - accuracy: 0.9516 - val_loss: 0.1186 - val_accuracy: 0.9518 - 2s/epoch - 5ms/step\n",
            "Epoch 16/30\n",
            "407/407 - 2s - loss: 0.1179 - accuracy: 0.9517 - val_loss: 0.1175 - val_accuracy: 0.9523 - 2s/epoch - 4ms/step\n",
            "Epoch 17/30\n",
            "407/407 - 1s - loss: 0.1166 - accuracy: 0.9521 - val_loss: 0.1162 - val_accuracy: 0.9531 - 1s/epoch - 3ms/step\n",
            "Epoch 18/30\n",
            "407/407 - 1s - loss: 0.1154 - accuracy: 0.9527 - val_loss: 0.1150 - val_accuracy: 0.9528 - 1s/epoch - 3ms/step\n",
            "Epoch 19/30\n",
            "407/407 - 1s - loss: 0.1144 - accuracy: 0.9532 - val_loss: 0.1146 - val_accuracy: 0.9530 - 1s/epoch - 3ms/step\n",
            "Epoch 20/30\n",
            "407/407 - 1s - loss: 0.1135 - accuracy: 0.9535 - val_loss: 0.1132 - val_accuracy: 0.9535 - 1s/epoch - 3ms/step\n",
            "Epoch 21/30\n",
            "407/407 - 1s - loss: 0.1124 - accuracy: 0.9537 - val_loss: 0.1120 - val_accuracy: 0.9536 - 1s/epoch - 3ms/step\n",
            "Epoch 22/30\n",
            "407/407 - 1s - loss: 0.1114 - accuracy: 0.9541 - val_loss: 0.1113 - val_accuracy: 0.9539 - 1s/epoch - 3ms/step\n",
            "Epoch 23/30\n",
            "407/407 - 1s - loss: 0.1103 - accuracy: 0.9544 - val_loss: 0.1101 - val_accuracy: 0.9544 - 1s/epoch - 3ms/step\n",
            "Epoch 24/30\n",
            "407/407 - 1s - loss: 0.1094 - accuracy: 0.9546 - val_loss: 0.1092 - val_accuracy: 0.9554 - 1s/epoch - 3ms/step\n",
            "Epoch 25/30\n",
            "407/407 - 2s - loss: 0.1085 - accuracy: 0.9554 - val_loss: 0.1086 - val_accuracy: 0.9553 - 2s/epoch - 6ms/step\n",
            "Epoch 26/30\n",
            "407/407 - 2s - loss: 0.1075 - accuracy: 0.9556 - val_loss: 0.1074 - val_accuracy: 0.9557 - 2s/epoch - 4ms/step\n",
            "Epoch 27/30\n",
            "407/407 - 2s - loss: 0.1066 - accuracy: 0.9559 - val_loss: 0.1066 - val_accuracy: 0.9557 - 2s/epoch - 6ms/step\n",
            "Epoch 28/30\n",
            "407/407 - 1s - loss: 0.1058 - accuracy: 0.9562 - val_loss: 0.1058 - val_accuracy: 0.9560 - 1s/epoch - 3ms/step\n",
            "Epoch 29/30\n",
            "407/407 - 1s - loss: 0.1051 - accuracy: 0.9563 - val_loss: 0.1049 - val_accuracy: 0.9563 - 1s/epoch - 3ms/step\n",
            "Epoch 30/30\n",
            "407/407 - 1s - loss: 0.1044 - accuracy: 0.9566 - val_loss: 0.1044 - val_accuracy: 0.9563 - 1s/epoch - 3ms/step\n",
            "dict_keys(['loss', 'accuracy', 'val_loss', 'val_accuracy'])\n"
          ]
        }
      ]
    },
    {
      "cell_type": "code",
      "source": [
        "plt.plot(history1.history['accuracy'])\n",
        "plt.plot(history1.history['val_accuracy'])\n",
        "plt.title('model accuracy')\n",
        "plt.ylabel('accuracy')\n",
        "plt.xlabel('epoch')\n",
        "plt.legend(['train', 'val'], loc='upper left')\n",
        "plt.show()\n",
        "# summarize history for loss\n",
        "plt.plot(history1.history['loss'])\n",
        "plt.plot(history1.history['val_loss'])\n",
        "plt.title('model loss')\n",
        "plt.ylabel('loss')\n",
        "plt.xlabel('epoch')\n",
        "plt.legend(['train', 'val'], loc='upper left')\n",
        "plt.show()"
      ],
      "metadata": {
        "colab": {
          "base_uri": "https://localhost:8080/",
          "height": 573
        },
        "id": "HfVmx7zbOLEI",
        "outputId": "27dd08ef-9e2f-4ea8-8958-0f65d44375ee"
      },
      "execution_count": null,
      "outputs": [
        {
          "output_type": "display_data",
          "data": {
            "text/plain": [
              "<Figure size 432x288 with 1 Axes>"
            ],
            "image/png": "[encoded data removed]"
          },
          "metadata": {
            "needs_background": "light"
          }
        },
        {
          "output_type": "display_data",
          "data": {
            "text/plain": [
              "<Figure size 432x288 with 1 Axes>"
            ],
            "image/png": "[encoded data removed]"
          },
          "metadata": {
            "needs_background": "light"
          }
        }
      ]
    },
    {
      "cell_type": "code",
      "source": [
        "#Training a Multi-layer perceptron with 1 hidden layer on Oversampled dataset using the parameters tuned above and adding a Dropout.\n",
        "n_inputs = smote_X.shape[1]\n",
        "es= keras.callbacks.EarlyStopping(monitor='val_loss',\n",
        "                              min_delta=0,\n",
        "                              patience=2,\n",
        "                              verbose=0, mode='min', restore_best_weights= True)\n",
        "Model1_drop = Sequential()\n",
        "Model1_drop.add(Dense(65, input_shape=(n_inputs, ), kernel_initializer='he_normal', activation='relu'))\n",
        "Model1_drop.add(Dropout(0.5))\n",
        "Model1_drop.add(Dense(1, kernel_initializer='he_normal', activation='sigmoid'))\n",
        "\n",
        "Model1_drop.compile(Adam(lr=0.001), loss='binary_crossentropy', metrics=['accuracy'])\n",
        "Model1_drop.summary()\n",
        "\n",
        "history2= Model1_drop.fit(smote_X, smote_Y, validation_data=(X_test, y_test), batch_size=700, epochs=40, callbacks=[es], shuffle=True, verbose=2)\n",
        "print(history2.history.keys())"
      ],
      "metadata": {
        "colab": {
          "base_uri": "https://localhost:8080/"
        },
        "id": "0awvfxwJOo8Y",
        "outputId": "167bda07-8f00-41c9-be1c-33e8c3c704e1"
      },
      "execution_count": null,
      "outputs": [
        {
          "output_type": "stream",
          "name": "stderr",
          "text": [
            "WARNING:absl:`lr` is deprecated, please use `learning_rate` instead, or use the legacy optimizer, e.g.,tf.keras.optimizers.legacy.Adam.\n"
          ]
        },
        {
          "output_type": "stream",
          "name": "stdout",
          "text": [
            "Model: \"sequential_1\"\n",
            "_________________________________________________________________\n",
            " Layer (type)                Output Shape              Param #   \n",
            "=================================================================\n",
            " dense_2 (Dense)             (None, 65)                325       \n",
            "                                                                 \n",
            " dropout (Dropout)           (None, 65)                0         \n",
            "                                                                 \n",
            " dense_3 (Dense)             (None, 1)                 66        \n",
            "                                                                 \n",
            "=================================================================\n",
            "Total params: 391\n",
            "Trainable params: 391\n",
            "Non-trainable params: 0\n",
            "_________________________________________________________________\n",
            "Epoch 1/40\n",
            "813/813 - 9s - loss: 0.2402 - accuracy: 0.9082 - val_loss: 0.1517 - val_accuracy: 0.9435 - 9s/epoch - 11ms/step\n",
            "Epoch 2/40\n",
            "813/813 - 5s - loss: 0.1619 - accuracy: 0.9398 - val_loss: 0.1474 - val_accuracy: 0.9434 - 5s/epoch - 7ms/step\n",
            "Epoch 3/40\n",
            "813/813 - 4s - loss: 0.1563 - accuracy: 0.9408 - val_loss: 0.1460 - val_accuracy: 0.9434 - 4s/epoch - 4ms/step\n",
            "Epoch 4/40\n",
            "813/813 - 3s - loss: 0.1536 - accuracy: 0.9414 - val_loss: 0.1444 - val_accuracy: 0.9442 - 3s/epoch - 4ms/step\n",
            "Epoch 5/40\n",
            "813/813 - 3s - loss: 0.1520 - accuracy: 0.9415 - val_loss: 0.1435 - val_accuracy: 0.9443 - 3s/epoch - 3ms/step\n",
            "Epoch 6/40\n",
            "813/813 - 3s - loss: 0.1508 - accuracy: 0.9418 - val_loss: 0.1430 - val_accuracy: 0.9443 - 3s/epoch - 4ms/step\n",
            "Epoch 7/40\n",
            "813/813 - 5s - loss: 0.1495 - accuracy: 0.9422 - val_loss: 0.1423 - val_accuracy: 0.9439 - 5s/epoch - 6ms/step\n",
            "Epoch 8/40\n",
            "813/813 - 3s - loss: 0.1489 - accuracy: 0.9420 - val_loss: 0.1418 - val_accuracy: 0.9442 - 3s/epoch - 3ms/step\n",
            "Epoch 9/40\n",
            "813/813 - 3s - loss: 0.1482 - accuracy: 0.9422 - val_loss: 0.1412 - val_accuracy: 0.9442 - 3s/epoch - 4ms/step\n",
            "Epoch 10/40\n",
            "813/813 - 3s - loss: 0.1478 - accuracy: 0.9424 - val_loss: 0.1409 - val_accuracy: 0.9441 - 3s/epoch - 4ms/step\n",
            "Epoch 11/40\n",
            "813/813 - 4s - loss: 0.1474 - accuracy: 0.9424 - val_loss: 0.1405 - val_accuracy: 0.9445 - 4s/epoch - 5ms/step\n",
            "Epoch 12/40\n",
            "813/813 - 3s - loss: 0.1472 - accuracy: 0.9424 - val_loss: 0.1402 - val_accuracy: 0.9445 - 3s/epoch - 4ms/step\n",
            "Epoch 13/40\n",
            "813/813 - 3s - loss: 0.1466 - accuracy: 0.9428 - val_loss: 0.1401 - val_accuracy: 0.9448 - 3s/epoch - 3ms/step\n",
            "Epoch 14/40\n",
            "813/813 - 3s - loss: 0.1464 - accuracy: 0.9428 - val_loss: 0.1398 - val_accuracy: 0.9448 - 3s/epoch - 4ms/step\n",
            "Epoch 15/40\n",
            "813/813 - 4s - loss: 0.1461 - accuracy: 0.9428 - val_loss: 0.1394 - val_accuracy: 0.9451 - 4s/epoch - 4ms/step\n",
            "Epoch 16/40\n",
            "813/813 - 4s - loss: 0.1460 - accuracy: 0.9430 - val_loss: 0.1391 - val_accuracy: 0.9449 - 4s/epoch - 4ms/step\n",
            "Epoch 17/40\n",
            "813/813 - 3s - loss: 0.1458 - accuracy: 0.9429 - val_loss: 0.1391 - val_accuracy: 0.9448 - 3s/epoch - 3ms/step\n",
            "Epoch 18/40\n",
            "813/813 - 3s - loss: 0.1457 - accuracy: 0.9432 - val_loss: 0.1391 - val_accuracy: 0.9453 - 3s/epoch - 4ms/step\n",
            "Epoch 19/40\n",
            "813/813 - 3s - loss: 0.1454 - accuracy: 0.9431 - val_loss: 0.1386 - val_accuracy: 0.9453 - 3s/epoch - 3ms/step\n",
            "Epoch 20/40\n",
            "813/813 - 5s - loss: 0.1453 - accuracy: 0.9430 - val_loss: 0.1389 - val_accuracy: 0.9450 - 5s/epoch - 6ms/step\n",
            "Epoch 21/40\n",
            "813/813 - 3s - loss: 0.1452 - accuracy: 0.9430 - val_loss: 0.1386 - val_accuracy: 0.9449 - 3s/epoch - 4ms/step\n",
            "Epoch 22/40\n",
            "813/813 - 3s - loss: 0.1450 - accuracy: 0.9431 - val_loss: 0.1381 - val_accuracy: 0.9450 - 3s/epoch - 3ms/step\n",
            "Epoch 23/40\n",
            "813/813 - 3s - loss: 0.1453 - accuracy: 0.9430 - val_loss: 0.1381 - val_accuracy: 0.9450 - 3s/epoch - 4ms/step\n",
            "Epoch 24/40\n",
            "813/813 - 4s - loss: 0.1450 - accuracy: 0.9428 - val_loss: 0.1380 - val_accuracy: 0.9451 - 4s/epoch - 5ms/step\n",
            "Epoch 25/40\n",
            "813/813 - 3s - loss: 0.1446 - accuracy: 0.9429 - val_loss: 0.1380 - val_accuracy: 0.9449 - 3s/epoch - 4ms/step\n",
            "Epoch 26/40\n",
            "813/813 - 3s - loss: 0.1445 - accuracy: 0.9430 - val_loss: 0.1377 - val_accuracy: 0.9450 - 3s/epoch - 3ms/step\n",
            "Epoch 27/40\n",
            "813/813 - 3s - loss: 0.1447 - accuracy: 0.9430 - val_loss: 0.1378 - val_accuracy: 0.9449 - 3s/epoch - 4ms/step\n",
            "Epoch 28/40\n",
            "813/813 - 3s - loss: 0.1446 - accuracy: 0.9431 - val_loss: 0.1380 - val_accuracy: 0.9447 - 3s/epoch - 4ms/step\n",
            "dict_keys(['loss', 'accuracy', 'val_loss', 'val_accuracy'])\n"
          ]
        }
      ]
    },
    {
      "cell_type": "code",
      "source": [
        "plt.plot(history2.history['accuracy'])\n",
        "plt.plot(history2.history['val_accuracy'])\n",
        "plt.title('model accuracy')\n",
        "plt.ylabel('accuracy')\n",
        "plt.xlabel('epoch')\n",
        "plt.legend(['train', 'val'], loc='upper left')\n",
        "plt.show()\n",
        "# summarize history for loss\n",
        "plt.plot(history2.history['loss'])\n",
        "plt.plot(history2.history['val_loss'])\n",
        "plt.title('model loss')\n",
        "plt.ylabel('loss')\n",
        "plt.xlabel('epoch')\n",
        "plt.legend(['train', 'val'], loc='upper left')\n",
        "plt.show()"
      ],
      "metadata": {
        "colab": {
          "base_uri": "https://localhost:8080/",
          "height": 573
        },
        "id": "85fuDXhxOpCe",
        "outputId": "5578ba74-8a58-4e37-c497-30ad1eec496c"
      },
      "execution_count": null,
      "outputs": [
        {
          "output_type": "display_data",
          "data": {
            "text/plain": [
              "<Figure size 432x288 with 1 Axes>"
            ],
            "image/png": "[encoded data removed]"
          },
          "metadata": {
            "needs_background": "light"
          }
        },
        {
          "output_type": "display_data",
          "data": {
            "text/plain": [
              "<Figure size 432x288 with 1 Axes>"
            ],
            "image/png": "[encoded data removed]"
          },
          "metadata": {
            "needs_background": "light"
          }
        }
      ]
    },
    {
      "cell_type": "code",
      "source": [
        "pred_x = Model1_drop.predict(X_test)\n",
        "y_pred = np.round(pred_x).astype(int)\n",
        "display_confusion_matrix(y_test,y_pred)\n",
        "displayMetrics(y_test,y_pred)\n",
        "roc_curve(y_test,y_pred)"
      ],
      "metadata": {
        "colab": {
          "base_uri": "https://localhost:8080/",
          "height": 596
        },
        "id": "S6jr5tjgPwU6",
        "outputId": "bece2d37-b769-4c5d-e23b-0206cb820672"
      },
      "execution_count": null,
      "outputs": [
        {
          "output_type": "stream",
          "name": "stdout",
          "text": [
            "8885/8885 [==============================] - 15s 2ms/step\n"
          ]
        },
        {
          "output_type": "display_data",
          "data": {
            "text/plain": [
              "<Figure size 432x288 with 2 Axes>"
            ],
            "image/png": "[encoded data removed]"
          },
          "metadata": {
            "needs_background": "light"
          }
        },
        {
          "output_type": "stream",
          "name": "stdout",
          "text": [
            "{'Kappa': 0.8899939931782053, 'Precision': 0.9728672897196262, 'Recall': 0.9155069302751002, 'F1_score': 0.9433159344642599, 'G Mean': 0.944531824794725}\n"
          ]
        },
        {
          "output_type": "display_data",
          "data": {
            "text/plain": [
              "<Figure size 432x288 with 1 Axes>"
            ],
            "image/png": "[encoded data removed]"
          },
          "metadata": {
            "needs_background": "light"
          }
        }
      ]
    },
    {
      "cell_type": "code",
      "source": [
        "from sklearn.metrics import precision_recall_curve,auc\n",
        "precision, recall, thresholds_pr = precision_recall_curve(y_test, y_pred)\n",
        "\n",
        "#Auc for PR curve\n",
        "AUC_PRcurve= auc(recall, precision)\n",
        "\n",
        "plt.figure(1)\n",
        "# plot no skill\n",
        "plt.plot([0, 1], [0.5, 0.5], linestyle='--')\n",
        "#plot PR curve\n",
        "plt.plot(precision, recall, label = \"AUC = {:0.2f}\".format(AUC_PRcurve), lw = 3, alpha = 0.7)\n",
        "plt.xlabel('Precision', fontsize = 14)\n",
        "plt.ylabel('Recall', fontsize = 14)\n",
        "plt.title('Precision-Recall Curve', fontsize = 18)\n",
        "plt.legend(loc='best')\n",
        "plt.show()"
      ],
      "metadata": {
        "colab": {
          "base_uri": "https://localhost:8080/",
          "height": 303
        },
        "id": "QZ855UM2QLjV",
        "outputId": "a2120f6f-7a87-4e3b-ae67-11719a5f033a"
      },
      "execution_count": null,
      "outputs": [
        {
          "output_type": "display_data",
          "data": {
            "text/plain": [
              "<Figure size 432x288 with 1 Axes>"
            ],
            "image/png": "[encoded data removed]"
          },
          "metadata": {
            "needs_background": "light"
          }
        }
      ]
    },
    {
      "cell_type": "code",
      "source": [],
      "metadata": {
        "id": "Hzcahtj5QTWX"
      },
      "execution_count": null,
      "outputs": []
    }
  ]
}